{
 "cells": [
  {
   "cell_type": "code",
   "execution_count": 9,
   "id": "f6039c65",
   "metadata": {},
   "outputs": [
    {
     "name": "stdout",
     "output_type": "stream",
     "text": [
      "secret:  4  guess:  10\n",
      "too high\n"
     ]
    }
   ],
   "source": [
    "#4.1\n",
    "import random\n",
    "\n",
    "secret = random.randint(1, 10)\n",
    "guess = random.randint(1, 10)\n",
    "\n",
    "print(\"secret: \",int(secret),\" guess: \",int(guess))\n",
    "if guess < secret:\n",
    "    print('too low')\n",
    "elif guess > secret:\n",
    "    print('too high')\n",
    "else:\n",
    "    print('just right')\n"
   ]
  },
  {
   "cell_type": "code",
   "execution_count": 11,
   "id": "c4e5909c",
   "metadata": {},
   "outputs": [
    {
     "name": "stdout",
     "output_type": "stream",
     "text": [
      "cherry\n"
     ]
    }
   ],
   "source": [
    "#4.2\n",
    "small = True\n",
    "green = False\n",
    "\n",
    "if small and green:\n",
    "    print(\"pea\")\n",
    "elif small and not green:\n",
    "    print(\"cherry\")\n",
    "elif not small and green:\n",
    "    print(\"watermelon\")\n",
    "else:\n",
    "    print(\"pumpkin\")\n"
   ]
  },
  {
   "cell_type": "code",
   "execution_count": 16,
   "id": "3b9b7517",
   "metadata": {},
   "outputs": [
    {
     "name": "stdout",
     "output_type": "stream",
     "text": [
      "3\n",
      "2\n",
      "1\n",
      "0\n"
     ]
    }
   ],
   "source": [
    "#6.1\n",
    "numList = [3, 2, 1, 0]\n",
    "\n",
    "for i in numList:\n",
    "    print(i)\n"
   ]
  },
  {
   "cell_type": "code",
   "execution_count": 17,
   "id": "f5b48608",
   "metadata": {},
   "outputs": [
    {
     "name": "stdout",
     "output_type": "stream",
     "text": [
      "too low\n",
      "too low\n",
      "too low\n",
      "too low\n",
      "too low\n",
      "too low\n",
      "found it!\n"
     ]
    }
   ],
   "source": [
    "#6.2\n",
    "guess_me = 7\n",
    "number = 1\n",
    "\n",
    "while number <= guess_me:\n",
    "    if number < guess_me:\n",
    "        print('too low')\n",
    "    elif number == guess_me:\n",
    "        print('found it!')\n",
    "        break\n",
    "    else:\n",
    "        print('oops')\n",
    "        break\n",
    "    number += 1\n"
   ]
  },
  {
   "cell_type": "code",
   "execution_count": 18,
   "id": "6a5729e7",
   "metadata": {},
   "outputs": [
    {
     "name": "stdout",
     "output_type": "stream",
     "text": [
      "too low\n",
      "too low\n",
      "too low\n",
      "too low\n",
      "too low\n",
      "found it!\n"
     ]
    }
   ],
   "source": [
    "#6.3\n",
    "guess_me = 5\n",
    "\n",
    "for number in range(10):\n",
    "    if number < guess_me:\n",
    "        print('too low')\n",
    "    elif number == guess_me:\n",
    "        print('found it!')\n",
    "        break\n",
    "    else:\n",
    "        print('oops')\n",
    "        break\n"
   ]
  },
  {
   "cell_type": "code",
   "execution_count": null,
   "id": "d86cc7d8",
   "metadata": {},
   "outputs": [],
   "source": []
  }
 ],
 "metadata": {
  "kernelspec": {
   "display_name": "Python 3 (ipykernel)",
   "language": "python",
   "name": "python3"
  },
  "language_info": {
   "codemirror_mode": {
    "name": "ipython",
    "version": 3
   },
   "file_extension": ".py",
   "mimetype": "text/x-python",
   "name": "python",
   "nbconvert_exporter": "python",
   "pygments_lexer": "ipython3",
   "version": "3.9.13"
  }
 },
 "nbformat": 4,
 "nbformat_minor": 5
}
